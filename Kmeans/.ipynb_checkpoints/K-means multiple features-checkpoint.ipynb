{
 "cells": [
  {
   "cell_type": "code",
   "execution_count": 1,
   "metadata": {},
   "outputs": [],
   "source": [
    "import pandas as pd\n",
    "from scipy import stats\n",
    "from sklearn.cluster import KMeans\n",
    "import matplotlib.pyplot as plt\n",
    "import seaborn as sns"
   ]
  },
  {
   "cell_type": "code",
   "execution_count": 2,
   "metadata": {},
   "outputs": [],
   "source": [
    "df = pd.read_csv('./data.csv',sep=';')"
   ]
  },
  {
   "cell_type": "code",
   "execution_count": 3,
   "metadata": {},
   "outputs": [
    {
     "data": {
      "text/html": [
       "<div>\n",
       "<style scoped>\n",
       "    .dataframe tbody tr th:only-of-type {\n",
       "        vertical-align: middle;\n",
       "    }\n",
       "\n",
       "    .dataframe tbody tr th {\n",
       "        vertical-align: top;\n",
       "    }\n",
       "\n",
       "    .dataframe thead th {\n",
       "        text-align: right;\n",
       "    }\n",
       "</style>\n",
       "<table border=\"1\" class=\"dataframe\">\n",
       "  <thead>\n",
       "    <tr style=\"text-align: right;\">\n",
       "      <th></th>\n",
       "      <th>Wattage</th>\n",
       "      <th>time_stamp</th>\n",
       "      <th>timeOfDay</th>\n",
       "      <th>Duration</th>\n",
       "    </tr>\n",
       "  </thead>\n",
       "  <tbody>\n",
       "    <tr>\n",
       "      <th>0</th>\n",
       "      <td>100</td>\n",
       "      <td>2015-02-24 10:00</td>\n",
       "      <td>Morning</td>\n",
       "      <td>30</td>\n",
       "    </tr>\n",
       "    <tr>\n",
       "      <th>1</th>\n",
       "      <td>120</td>\n",
       "      <td>2015-02-24 11:00</td>\n",
       "      <td>Morning</td>\n",
       "      <td>27</td>\n",
       "    </tr>\n",
       "    <tr>\n",
       "      <th>2</th>\n",
       "      <td>104</td>\n",
       "      <td>2015-02-24 12:00</td>\n",
       "      <td>Morning</td>\n",
       "      <td>25</td>\n",
       "    </tr>\n",
       "    <tr>\n",
       "      <th>3</th>\n",
       "      <td>105</td>\n",
       "      <td>2015-02-24 13:00</td>\n",
       "      <td>Afternoon</td>\n",
       "      <td>15</td>\n",
       "    </tr>\n",
       "    <tr>\n",
       "      <th>4</th>\n",
       "      <td>109</td>\n",
       "      <td>2015-02-24 14:00</td>\n",
       "      <td>Afternoon</td>\n",
       "      <td>35</td>\n",
       "    </tr>\n",
       "  </tbody>\n",
       "</table>\n",
       "</div>"
      ],
      "text/plain": [
       "   Wattage        time_stamp  timeOfDay  Duration\n",
       "0      100  2015-02-24 10:00    Morning        30\n",
       "1      120  2015-02-24 11:00    Morning        27\n",
       "2      104  2015-02-24 12:00    Morning        25\n",
       "3      105  2015-02-24 13:00  Afternoon        15\n",
       "4      109  2015-02-24 14:00  Afternoon        35"
      ]
     },
     "execution_count": 3,
     "metadata": {},
     "output_type": "execute_result"
    }
   ],
   "source": [
    "df.head()"
   ]
  },
  {
   "cell_type": "code",
   "execution_count": 4,
   "metadata": {},
   "outputs": [],
   "source": [
    "#Make a copy of DF\n",
    "df_tr = df\n",
    "\n",
    "#Transsform the timeOfDay to dummies\n",
    "df_tr = pd.get_dummies(df_tr, columns=['timeOfDay'])"
   ]
  },
  {
   "cell_type": "code",
   "execution_count": 5,
   "metadata": {},
   "outputs": [
    {
     "data": {
      "text/html": [
       "<div>\n",
       "<style scoped>\n",
       "    .dataframe tbody tr th:only-of-type {\n",
       "        vertical-align: middle;\n",
       "    }\n",
       "\n",
       "    .dataframe tbody tr th {\n",
       "        vertical-align: top;\n",
       "    }\n",
       "\n",
       "    .dataframe thead th {\n",
       "        text-align: right;\n",
       "    }\n",
       "</style>\n",
       "<table border=\"1\" class=\"dataframe\">\n",
       "  <thead>\n",
       "    <tr style=\"text-align: right;\">\n",
       "      <th></th>\n",
       "      <th>Wattage</th>\n",
       "      <th>time_stamp</th>\n",
       "      <th>Duration</th>\n",
       "      <th>timeOfDay_Afternoon</th>\n",
       "      <th>timeOfDay_Evening</th>\n",
       "      <th>timeOfDay_Morning</th>\n",
       "    </tr>\n",
       "  </thead>\n",
       "  <tbody>\n",
       "    <tr>\n",
       "      <th>0</th>\n",
       "      <td>100</td>\n",
       "      <td>2015-02-24 10:00</td>\n",
       "      <td>30</td>\n",
       "      <td>0</td>\n",
       "      <td>0</td>\n",
       "      <td>1</td>\n",
       "    </tr>\n",
       "    <tr>\n",
       "      <th>1</th>\n",
       "      <td>120</td>\n",
       "      <td>2015-02-24 11:00</td>\n",
       "      <td>27</td>\n",
       "      <td>0</td>\n",
       "      <td>0</td>\n",
       "      <td>1</td>\n",
       "    </tr>\n",
       "    <tr>\n",
       "      <th>2</th>\n",
       "      <td>104</td>\n",
       "      <td>2015-02-24 12:00</td>\n",
       "      <td>25</td>\n",
       "      <td>0</td>\n",
       "      <td>0</td>\n",
       "      <td>1</td>\n",
       "    </tr>\n",
       "    <tr>\n",
       "      <th>3</th>\n",
       "      <td>105</td>\n",
       "      <td>2015-02-24 13:00</td>\n",
       "      <td>15</td>\n",
       "      <td>1</td>\n",
       "      <td>0</td>\n",
       "      <td>0</td>\n",
       "    </tr>\n",
       "    <tr>\n",
       "      <th>4</th>\n",
       "      <td>109</td>\n",
       "      <td>2015-02-24 14:00</td>\n",
       "      <td>35</td>\n",
       "      <td>1</td>\n",
       "      <td>0</td>\n",
       "      <td>0</td>\n",
       "    </tr>\n",
       "  </tbody>\n",
       "</table>\n",
       "</div>"
      ],
      "text/plain": [
       "   Wattage        time_stamp  Duration  timeOfDay_Afternoon  \\\n",
       "0      100  2015-02-24 10:00        30                    0   \n",
       "1      120  2015-02-24 11:00        27                    0   \n",
       "2      104  2015-02-24 12:00        25                    0   \n",
       "3      105  2015-02-24 13:00        15                    1   \n",
       "4      109  2015-02-24 14:00        35                    1   \n",
       "\n",
       "   timeOfDay_Evening  timeOfDay_Morning  \n",
       "0                  0                  1  \n",
       "1                  0                  1  \n",
       "2                  0                  1  \n",
       "3                  0                  0  \n",
       "4                  0                  0  "
      ]
     },
     "execution_count": 5,
     "metadata": {},
     "output_type": "execute_result"
    }
   ],
   "source": [
    "df_tr.head()"
   ]
  },
  {
   "cell_type": "code",
   "execution_count": 6,
   "metadata": {},
   "outputs": [
    {
     "name": "stdout",
     "output_type": "stream",
     "text": [
      "<class 'pandas.core.frame.DataFrame'>\n",
      "RangeIndex: 12 entries, 0 to 11\n",
      "Data columns (total 6 columns):\n",
      "Wattage                12 non-null int64\n",
      "time_stamp             12 non-null object\n",
      "Duration               12 non-null int64\n",
      "timeOfDay_Afternoon    12 non-null uint8\n",
      "timeOfDay_Evening      12 non-null uint8\n",
      "timeOfDay_Morning      12 non-null uint8\n",
      "dtypes: int64(2), object(1), uint8(3)\n",
      "memory usage: 404.0+ bytes\n"
     ]
    }
   ],
   "source": [
    "df_tr.info()"
   ]
  },
  {
   "cell_type": "code",
   "execution_count": 7,
   "metadata": {},
   "outputs": [
    {
     "data": {
      "text/plain": [
       "Wattage                0\n",
       "time_stamp             0\n",
       "Duration               0\n",
       "timeOfDay_Afternoon    0\n",
       "timeOfDay_Evening      0\n",
       "timeOfDay_Morning      0\n",
       "dtype: int64"
      ]
     },
     "execution_count": 7,
     "metadata": {},
     "output_type": "execute_result"
    }
   ],
   "source": [
    "# Check for missing values\n",
    "df_tr.isnull().sum(axis = 0)"
   ]
  },
  {
   "cell_type": "code",
   "execution_count": 8,
   "metadata": {},
   "outputs": [],
   "source": [
    "#Standardize\n",
    "clmns = ['Wattage', 'Duration','timeOfDay_Afternoon', 'timeOfDay_Evening',\n",
    "         'timeOfDay_Morning']\n",
    "\n",
    "df_tr = df_tr.reindex(columns=clmns)\n",
    "#df_tr[clmns] = df_tr[clmns].astype(int)\n",
    "\n",
    "df_tr_std = stats.zscore(df_tr[clmns])"
   ]
  },
  {
   "cell_type": "code",
   "execution_count": 19,
   "metadata": {},
   "outputs": [
    {
     "name": "stdout",
     "output_type": "stream",
     "text": [
      "             Wattage   Duration  timeOfDay_Afternoon  timeOfDay_Evening  \\\n",
      "clusters                                                                  \n",
      "0         225.000000  85.000000             0.166667           0.833333   \n",
      "1         109.666667  30.166667             0.500000           0.000000   \n",
      "\n",
      "          timeOfDay_Morning  \n",
      "clusters                     \n",
      "0                       0.0  \n",
      "1                       0.5  \n"
     ]
    }
   ],
   "source": [
    "#Cluster the data\n",
    "kmeans = KMeans(n_clusters=2, random_state=0).fit(df_tr_std)\n",
    "labels = kmeans.labels_\n",
    "\n",
    "#Glue back to originaal data\n",
    "df_tr['clusters'] = labels\n",
    "\n",
    "#Add the column into our list\n",
    "clmns.extend(['clusters'])\n",
    "\n",
    "#Lets analyze the clusters\n",
    "print(df_tr.groupby('clusters').mean())"
   ]
  },
  {
   "cell_type": "code",
   "execution_count": 11,
   "metadata": {},
   "outputs": [
    {
     "data": {
      "text/plain": [
       "Text(27.4851,0.5,'Duration')"
      ]
     },
     "execution_count": 11,
     "metadata": {},
     "output_type": "execute_result"
    },
    {
     "data": {
      "image/png": "[encoded data removed]",
      "text/plain": [
       "<matplotlib.figure.Figure at 0x1a0e90def0>"
      ]
     },
     "metadata": {},
     "output_type": "display_data"
    }
   ],
   "source": [
    "#Scatter plot of Wattage and Duration\n",
    "sns.lmplot('Wattage', 'Duration', \n",
    "           data=df_tr, \n",
    "           fit_reg=False, \n",
    "           hue=\"clusters\",  \n",
    "           scatter_kws={\"marker\": \"D\", \n",
    "                        \"s\": 100})\n",
    "plt.title('Clusters Wattage vs Duration')\n",
    "plt.xlabel('Wattage')\n",
    "plt.ylabel('Duration')"
   ]
  }
 ],
 "metadata": {
  "kernelspec": {
   "display_name": "Python 3",
   "language": "python",
   "name": "python3"
  },
  "language_info": {
   "codemirror_mode": {
    "name": "ipython",
    "version": 3
   },
   "file_extension": ".py",
   "mimetype": "text/x-python",
   "name": "python",
   "nbconvert_exporter": "python",
   "pygments_lexer": "ipython3",
   "version": "3.6.8"
  }
 },
 "nbformat": 4,
 "nbformat_minor": 2
}
